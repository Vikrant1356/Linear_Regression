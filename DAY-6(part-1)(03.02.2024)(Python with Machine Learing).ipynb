{
 "cells": [
  {
   "cell_type": "markdown",
   "id": "8a72f462-d54e-4ed2-a5e2-198a6a992890",
   "metadata": {},
   "source": [
    "#Predict canada's per capita income in year 2020. There is an exercise folder here on github at same level as this notebook, download that and you will find canada_per_capita_income.csv file. Using this build a regression model and predict the per capita income fo canadian citizens in year 2020 (canada_per_capita_income.csv)"
   ]
  },
  {
   "cell_type": "code",
   "execution_count": 2,
   "id": "23e43efa-018f-45a3-9c93-b1f6f5ba06db",
   "metadata": {},
   "outputs": [],
   "source": [
    "import pandas as pd"
   ]
  },
  {
   "cell_type": "code",
   "execution_count": 6,
   "id": "3d652758-df5e-4a22-b731-dc6b9b0400cf",
   "metadata": {},
   "outputs": [
    {
     "name": "stdout",
     "output_type": "stream",
     "text": [
      "   year  per capita income (US$)\n",
      "0  1970              3399.299037\n",
      "1  1971              3768.297935\n",
      "2  1972              4251.175484\n",
      "3  1973              4804.463248\n",
      "4  1974              5576.514583\n"
     ]
    }
   ],
   "source": [
    "data = pd.read_csv('canada_per_capita_income.csv')\n",
    "data\n",
    "print(data.head())"
   ]
  },
  {
   "cell_type": "code",
   "execution_count": 41,
   "id": "63d3cb25-e40e-4148-a16a-44e86b738744",
   "metadata": {},
   "outputs": [],
   "source": [
    "import pandas as pd\n",
    "from sklearn.linear_model import LinearRegression\n",
    "import matplotlib.pyplot as plt"
   ]
  },
  {
   "cell_type": "code",
   "execution_count": 42,
   "id": "1e34123c-0b0d-4e05-8cf4-8bf507808921",
   "metadata": {},
   "outputs": [],
   "source": [
    "data = pd.read_csv('canada_per_capita_income.csv')"
   ]
  },
  {
   "cell_type": "code",
   "execution_count": 43,
   "id": "735bbe0e-da55-4f3c-b7b5-455880590e2c",
   "metadata": {},
   "outputs": [
    {
     "name": "stdout",
     "output_type": "stream",
     "text": [
      "Predicted per capita income for Canada in 2020: 41288.69409441762\n"
     ]
    },
    {
     "name": "stderr",
     "output_type": "stream",
     "text": [
      "C:\\Users\\VIKRANT\\AppData\\Local\\Programs\\Python\\Python312\\Lib\\site-packages\\sklearn\\base.py:493: UserWarning: X does not have valid feature names, but LinearRegression was fitted with feature names\n",
      "  warnings.warn(\n"
     ]
    }
   ],
   "source": [
    "model = LinearRegression()\n",
    "model.fit(data[['year']], data['per capita income (US$)'])\n",
    "predicted_income_2020 = model.predict([[2020]])\n",
    "print(\"Predicted per capita income for Canada in 2020:\", predicted_income_2020[0])"
   ]
  }
 ],
 "metadata": {
  "kernelspec": {
   "display_name": "Python 3 (ipykernel)",
   "language": "python",
   "name": "python3"
  },
  "language_info": {
   "codemirror_mode": {
    "name": "ipython",
    "version": 3
   },
   "file_extension": ".py",
   "mimetype": "text/x-python",
   "name": "python",
   "nbconvert_exporter": "python",
   "pygments_lexer": "ipython3",
   "version": "3.12.1"
  }
 },
 "nbformat": 4,
 "nbformat_minor": 5
}
